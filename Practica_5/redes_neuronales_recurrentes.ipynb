{
 "cells": [
  {
   "cell_type": "markdown",
   "metadata": {},
   "source": [
    "# RNN "
   ]
  },
  {
   "cell_type": "markdown",
   "metadata": {},
   "source": [
    "###  Objetivos"
   ]
  },
  {
   "cell_type": "markdown",
   "metadata": {},
   "source": [
    "\n",
    "1. Especificar que la red genere nombres de mas de cuatro letras\n",
    "2. Que no se repitan tres vocales o tres consonantes juntas en el nombre\n",
    "3. Probar la red para cada base de nombres\n",
    "4. Junte todas las bases de nombres en un solo archivo, ponga los nombres en orden alfabético antes de probar la red.\n",
    "5. Documentar mas el codigo fuente \"\"\""
   ]
  },
  {
   "cell_type": "code",
   "execution_count": 1,
   "metadata": {},
   "outputs": [
    {
     "name": "stdout",
     "output_type": "stream",
     "text": [
      "Iteración: 0, Error: 3.3619978427886963\n"
     ]
    }
   ],
   "source": [
    "import RNR.RNN_generacion_nombres as rnn\n",
    "\n",
    "\n"
   ]
  }
 ],
 "metadata": {
  "kernelspec": {
   "display_name": "Python 3",
   "language": "python",
   "name": "python3"
  },
  "language_info": {
   "codemirror_mode": {
    "name": "ipython",
    "version": 3
   },
   "file_extension": ".py",
   "mimetype": "text/x-python",
   "name": "python",
   "nbconvert_exporter": "python",
   "pygments_lexer": "ipython3",
   "version": "3.11.1"
  }
 },
 "nbformat": 4,
 "nbformat_minor": 2
}
