{
 "cells": [
  {
   "cell_type": "markdown",
   "metadata": {},
   "source": [
    "### Red neuronal de base radial"
   ]
  },
  {
   "cell_type": "markdown",
   "metadata": {},
   "source": [
    "Las redes neuronales de base radial (RBF, por sus siglas en inglés, Radial Basis Function) son un tipo de red neuronal artificial que se utiliza en aprendizaje supervisado y no supervisado. Estas redes se llaman \"radiales\" porque utilizan funciones de base radial como funciones de activación en sus neuronas.\n",
    "\n",
    "Una descripción básica de cómo funcionan las RBF:\n",
    "\n",
    "1. Capa de entrada: En esta capa, se introducen los datos de entrada. Cada neurona en esta capa está asociada a una característica específica del conjunto de datos.\n",
    "\n",
    "2. Capa oculta: Esta es la capa más distintiva de las RBF. Cada neurona en esta capa utiliza una función de base radial como su función de activación. La función de base radial generalmente toma la forma de una campana gaussiana y depende de la distancia entre la entrada y un centro específico asociado a la neurona. Las neuronas en esta capa se utilizan para realizar transformaciones no lineales de los datos de entrada.\n",
    "\n",
    "3. Capa de salida: En esta capa, se realizan las operaciones de salida, que pueden variar según la tarea que esté realizando la red neuronal. Puede ser una regresión, clasificación u otra tarea, dependiendo de la configuración de la red.\n",
    "\n",
    "Las redes neuronales de base radial son conocidas por su capacidad para aproximar funciones complejas y resolver problemas de regresión no lineal. Son especialmente útiles en aplicaciones donde la relación entre las características de entrada y la salida es difícil de modelar utilizando métodos lineales.\n",
    "\n",
    "En el contexto de la ciencia de datos y el aprendizaje automático, las RBF son una técnica útil para abordar problemas que requieren una representación no lineal de los datos, aunque es importante destacar que existen otras arquitecturas de redes neuronales, como las redes neuronales convolucionales (CNN) y las redes neuronales recurrentes (RNN), que se utilizan en diferentes escenarios."
   ]
  },
  {
   "cell_type": "code",
   "execution_count": 88,
   "metadata": {},
   "outputs": [],
   "source": [
    "import pandas as pd\n",
    "import numpy as np\n",
    "import matplotlib.pyplot as plt\n",
    "import seaborn as sns\n",
    "import os\n",
    "\n",
    "\n",
    "df = pd.read_csv('exploracionPerfiles.csv', sep=',', decimal='.', encoding='utf-8')"
   ]
  },
  {
   "cell_type": "code",
   "execution_count": 89,
   "metadata": {},
   "outputs": [
    {
     "data": {
      "text/html": [
       "<div>\n",
       "<style scoped>\n",
       "    .dataframe tbody tr th:only-of-type {\n",
       "        vertical-align: middle;\n",
       "    }\n",
       "\n",
       "    .dataframe tbody tr th {\n",
       "        vertical-align: top;\n",
       "    }\n",
       "\n",
       "    .dataframe thead th {\n",
       "        text-align: right;\n",
       "    }\n",
       "</style>\n",
       "<table border=\"1\" class=\"dataframe\">\n",
       "  <thead>\n",
       "    <tr style=\"text-align: right;\">\n",
       "      <th></th>\n",
       "      <th>CorreoElectronico</th>\n",
       "      <th>Edad</th>\n",
       "      <th>Genero</th>\n",
       "      <th>Ubicacion</th>\n",
       "      <th>EstadoCivil</th>\n",
       "      <th>ActividadesCitas</th>\n",
       "      <th>Hobbies</th>\n",
       "      <th>FrecuenciaCitas</th>\n",
       "      <th>Organizacion</th>\n",
       "      <th>FlexibilidadHoraria</th>\n",
       "      <th>...</th>\n",
       "      <th>ActividadesClima</th>\n",
       "      <th>Cocina</th>\n",
       "      <th>RestriccionesAlimentarias</th>\n",
       "      <th>Deportes</th>\n",
       "      <th>InteresesCulturales</th>\n",
       "      <th>EntornoCitas</th>\n",
       "      <th>FormalidadCitas</th>\n",
       "      <th>Vestimenta</th>\n",
       "      <th>Disponibilidad</th>\n",
       "      <th>FlexibilidadHoraria.1</th>\n",
       "    </tr>\n",
       "  </thead>\n",
       "  <tbody>\n",
       "    <tr>\n",
       "      <th>0</th>\n",
       "      <td>mahuitzic65@gmail.com</td>\n",
       "      <td>20</td>\n",
       "      <td>[5]</td>\n",
       "      <td>[6]</td>\n",
       "      <td>1</td>\n",
       "      <td>[14, 16, 28, 10, 7]</td>\n",
       "      <td>[11, 21, 10, 30, 29]</td>\n",
       "      <td>[2]</td>\n",
       "      <td>3</td>\n",
       "      <td>3</td>\n",
       "      <td>...</td>\n",
       "      <td>[1]</td>\n",
       "      <td>[5, 10]</td>\n",
       "      <td>[2]</td>\n",
       "      <td>[5, 17]</td>\n",
       "      <td>[29, 32, 25, 46, 34, 2, 45, 14, 24, 5, 2, 31, ...</td>\n",
       "      <td>[2]</td>\n",
       "      <td>[3]</td>\n",
       "      <td>[2]</td>\n",
       "      <td>[5]</td>\n",
       "      <td>3.0</td>\n",
       "    </tr>\n",
       "    <tr>\n",
       "      <th>1</th>\n",
       "      <td>aguilarvaleria004@gmail.com</td>\n",
       "      <td>22</td>\n",
       "      <td>[5]</td>\n",
       "      <td>[8]</td>\n",
       "      <td>1</td>\n",
       "      <td>[13, 5, 12, 28, 17]</td>\n",
       "      <td>[5, 22, 13, 16, 8]</td>\n",
       "      <td>[2]</td>\n",
       "      <td>4</td>\n",
       "      <td>3</td>\n",
       "      <td>...</td>\n",
       "      <td>[1]</td>\n",
       "      <td>[5, 4, 1]</td>\n",
       "      <td>[1]</td>\n",
       "      <td>[5, 7, 20, 11]</td>\n",
       "      <td>[57, 9, 23, 52, 2, 29, 32, 25, 46, 34, 2, 27, 38]</td>\n",
       "      <td>[2]</td>\n",
       "      <td>[2]</td>\n",
       "      <td>[3]</td>\n",
       "      <td>[10, 4, 8]</td>\n",
       "      <td>3.0</td>\n",
       "    </tr>\n",
       "    <tr>\n",
       "      <th>2</th>\n",
       "      <td>aguilarbjimena@gmail.com</td>\n",
       "      <td>21</td>\n",
       "      <td>[5]</td>\n",
       "      <td>[8]</td>\n",
       "      <td>1</td>\n",
       "      <td>[13, 30, 27, 26, 24]</td>\n",
       "      <td>[21, 23, 1, 22, 4]</td>\n",
       "      <td>[2]</td>\n",
       "      <td>5</td>\n",
       "      <td>4</td>\n",
       "      <td>...</td>\n",
       "      <td>[1]</td>\n",
       "      <td>[5, 7, 10]</td>\n",
       "      <td>[4]</td>\n",
       "      <td>[5, 20]</td>\n",
       "      <td>[57, 9, 23, 52, 2, 53, 28, 47, 13, 2, 51, 12, ...</td>\n",
       "      <td>[1]</td>\n",
       "      <td>[2]</td>\n",
       "      <td>[1]</td>\n",
       "      <td>[7]</td>\n",
       "      <td>4.0</td>\n",
       "    </tr>\n",
       "    <tr>\n",
       "      <th>3</th>\n",
       "      <td>dcr26mer@gmail.com</td>\n",
       "      <td>20</td>\n",
       "      <td>[5]</td>\n",
       "      <td>[20]</td>\n",
       "      <td>1</td>\n",
       "      <td>[13, 12, 14, 26]</td>\n",
       "      <td>[11, 17, 21, 20, 6]</td>\n",
       "      <td>[2]</td>\n",
       "      <td>5</td>\n",
       "      <td>3</td>\n",
       "      <td>...</td>\n",
       "      <td>[1]</td>\n",
       "      <td>[5, 7, 4]</td>\n",
       "      <td>[1]</td>\n",
       "      <td>[7]</td>\n",
       "      <td>[57, 9, 23, 52, 2, 53, 28, 47, 13, 2, 31, 26, ...</td>\n",
       "      <td>[2]</td>\n",
       "      <td>[3]</td>\n",
       "      <td>[1]</td>\n",
       "      <td>[9, 4]</td>\n",
       "      <td>3.0</td>\n",
       "    </tr>\n",
       "    <tr>\n",
       "      <th>4</th>\n",
       "      <td>cdenisse618@gmail.com</td>\n",
       "      <td>20</td>\n",
       "      <td>[5]</td>\n",
       "      <td>[10]</td>\n",
       "      <td>2</td>\n",
       "      <td>[18, 15, 20, 28, 24, 3]</td>\n",
       "      <td>[17, 14, 21, 4]</td>\n",
       "      <td>[2]</td>\n",
       "      <td>3</td>\n",
       "      <td>4</td>\n",
       "      <td>...</td>\n",
       "      <td>[1]</td>\n",
       "      <td>[5, 10]</td>\n",
       "      <td>[1]</td>\n",
       "      <td>[5, 17, 20, 11]</td>\n",
       "      <td>[54]</td>\n",
       "      <td>[2]</td>\n",
       "      <td>[2]</td>\n",
       "      <td>[2]</td>\n",
       "      <td>[1]</td>\n",
       "      <td>4.0</td>\n",
       "    </tr>\n",
       "  </tbody>\n",
       "</table>\n",
       "<p>5 rows × 26 columns</p>\n",
       "</div>"
      ],
      "text/plain": [
       "             CorreoElectronico  Edad Genero Ubicacion  EstadoCivil  \\\n",
       "0        mahuitzic65@gmail.com    20    [5]       [6]            1   \n",
       "1  aguilarvaleria004@gmail.com    22    [5]       [8]            1   \n",
       "2     aguilarbjimena@gmail.com    21    [5]       [8]            1   \n",
       "3           dcr26mer@gmail.com    20    [5]      [20]            1   \n",
       "4        cdenisse618@gmail.com    20    [5]      [10]            2   \n",
       "\n",
       "          ActividadesCitas               Hobbies FrecuenciaCitas  \\\n",
       "0      [14, 16, 28, 10, 7]  [11, 21, 10, 30, 29]             [2]   \n",
       "1      [13, 5, 12, 28, 17]    [5, 22, 13, 16, 8]             [2]   \n",
       "2     [13, 30, 27, 26, 24]    [21, 23, 1, 22, 4]             [2]   \n",
       "3         [13, 12, 14, 26]   [11, 17, 21, 20, 6]             [2]   \n",
       "4  [18, 15, 20, 28, 24, 3]       [17, 14, 21, 4]             [2]   \n",
       "\n",
       "   Organizacion  FlexibilidadHoraria  ... ActividadesClima      Cocina  \\\n",
       "0             3                    3  ...              [1]     [5, 10]   \n",
       "1             4                    3  ...              [1]   [5, 4, 1]   \n",
       "2             5                    4  ...              [1]  [5, 7, 10]   \n",
       "3             5                    3  ...              [1]   [5, 7, 4]   \n",
       "4             3                    4  ...              [1]     [5, 10]   \n",
       "\n",
       "  RestriccionesAlimentarias         Deportes  \\\n",
       "0                       [2]          [5, 17]   \n",
       "1                       [1]   [5, 7, 20, 11]   \n",
       "2                       [4]          [5, 20]   \n",
       "3                       [1]              [7]   \n",
       "4                       [1]  [5, 17, 20, 11]   \n",
       "\n",
       "                                 InteresesCulturales  EntornoCitas  \\\n",
       "0  [29, 32, 25, 46, 34, 2, 45, 14, 24, 5, 2, 31, ...           [2]   \n",
       "1  [57, 9, 23, 52, 2, 29, 32, 25, 46, 34, 2, 27, 38]           [2]   \n",
       "2  [57, 9, 23, 52, 2, 53, 28, 47, 13, 2, 51, 12, ...           [1]   \n",
       "3  [57, 9, 23, 52, 2, 53, 28, 47, 13, 2, 31, 26, ...           [2]   \n",
       "4                                               [54]           [2]   \n",
       "\n",
       "  FormalidadCitas Vestimenta Disponibilidad FlexibilidadHoraria.1  \n",
       "0             [3]        [2]            [5]                   3.0  \n",
       "1             [2]        [3]     [10, 4, 8]                   3.0  \n",
       "2             [2]        [1]            [7]                   4.0  \n",
       "3             [3]        [1]         [9, 4]                   3.0  \n",
       "4             [2]        [2]            [1]                   4.0  \n",
       "\n",
       "[5 rows x 26 columns]"
      ]
     },
     "execution_count": 89,
     "metadata": {},
     "output_type": "execute_result"
    }
   ],
   "source": [
    "df.head(5)"
   ]
  },
  {
   "cell_type": "code",
   "execution_count": 90,
   "metadata": {},
   "outputs": [
    {
     "data": {
      "text/plain": [
       "112"
      ]
     },
     "execution_count": 90,
     "metadata": {},
     "output_type": "execute_result"
    }
   ],
   "source": [
    "len(df)"
   ]
  },
  {
   "cell_type": "markdown",
   "metadata": {},
   "source": [
    "Separar datos de entrenamiento y prueba"
   ]
  },
  {
   "cell_type": "code",
   "execution_count": 91,
   "metadata": {},
   "outputs": [],
   "source": [
    "from sklearn.model_selection import train_test_split\n",
    "\n",
    "y = df['Genero']\n",
    "X = df.iloc[:, 4:26]\n",
    "\n",
    "print(X.shape)\n",
    "print(y.shape)"
   ]
  },
  {
   "cell_type": "markdown",
   "metadata": {},
   "source": [
    "Realiza one-hot encoding de las características categóricas"
   ]
  },
  {
   "cell_type": "code",
   "execution_count": 93,
   "metadata": {},
   "outputs": [],
   "source": [
    "X = pd.get_dummies(X, columns=['ActividadesCitas', 'Hobbies', 'FrecuenciaCitas', 'InicioCitas', 'DistanciaAceptable', 'PresupuestoGeneral', 'PresupuestoEspecial', 'DuracionCitas', 'ActividadesClima', 'Cocina', 'RestriccionesAlimentarias', 'Deportes', 'InteresesCulturales', 'EntornoCitas', 'FormalidadCitas', 'Vestimenta', 'Disponibilidad'])"
   ]
  },
  {
   "cell_type": "markdown",
   "metadata": {},
   "source": [
    "Contar los valores NaN"
   ]
  },
  {
   "cell_type": "code",
   "execution_count": 94,
   "metadata": {},
   "outputs": [
    {
     "data": {
      "text/plain": [
       "CorreoElectronico            0\n",
       "Edad                         0\n",
       "Genero                       0\n",
       "Ubicacion                    0\n",
       "EstadoCivil                  0\n",
       "ActividadesCitas             0\n",
       "Hobbies                      0\n",
       "FrecuenciaCitas              0\n",
       "Organizacion                 0\n",
       "FlexibilidadHoraria          0\n",
       "InicioCitas                  0\n",
       "DistanciaAceptable           0\n",
       "PresupuestoGeneral           0\n",
       "PresupuestoEspecial          0\n",
       "DuracionCitas                0\n",
       "ImportanciaClima             0\n",
       "ActividadesClima             0\n",
       "Cocina                       0\n",
       "RestriccionesAlimentarias    0\n",
       "Deportes                     0\n",
       "InteresesCulturales          0\n",
       "EntornoCitas                 0\n",
       "FormalidadCitas              0\n",
       "Vestimenta                   0\n",
       "Disponibilidad               0\n",
       "FlexibilidadHoraria.1        2\n",
       "dtype: int64"
      ]
     },
     "execution_count": 94,
     "metadata": {},
     "output_type": "execute_result"
    }
   ],
   "source": [
    "df.isnull().sum()"
   ]
  },
  {
   "cell_type": "markdown",
   "metadata": {},
   "source": [
    "Eliminar toda la fila si hay un NaN en alguna columna"
   ]
  },
  {
   "cell_type": "code",
   "execution_count": 95,
   "metadata": {},
   "outputs": [],
   "source": [
    "df = df.dropna(axis=0, how='any')"
   ]
  },
  {
   "cell_type": "markdown",
   "metadata": {},
   "source": [
    "Contar los valores NaN"
   ]
  },
  {
   "cell_type": "code",
   "execution_count": 96,
   "metadata": {},
   "outputs": [
    {
     "data": {
      "text/plain": [
       "EstadoCivil                  0\n",
       "Organizacion                 0\n",
       "FlexibilidadHoraria          0\n",
       "ImportanciaClima             0\n",
       "FlexibilidadHoraria.1        2\n",
       "                            ..\n",
       "Disponibilidad_[9, 10, 5]    0\n",
       "Disponibilidad_[9, 4, 8]     0\n",
       "Disponibilidad_[9, 4]        0\n",
       "Disponibilidad_[9, 5, 4]     0\n",
       "Disponibilidad_[9]           0\n",
       "Length: 475, dtype: int64"
      ]
     },
     "execution_count": 96,
     "metadata": {},
     "output_type": "execute_result"
    }
   ],
   "source": [
    "X.isnull().sum()"
   ]
  },
  {
   "cell_type": "code",
   "execution_count": 97,
   "metadata": {},
   "outputs": [],
   "source": [
    "X_train, X_test, y_train, y_test = train_test_split(X, y, test_size=0.20, random_state=42)"
   ]
  },
  {
   "cell_type": "markdown",
   "metadata": {},
   "source": [
    "Imprimir la forma de los datos de entrenamiento y prueba"
   ]
  },
  {
   "cell_type": "code",
   "execution_count": 98,
   "metadata": {},
   "outputs": [
    {
     "name": "stdout",
     "output_type": "stream",
     "text": [
      "(89, 475)\n",
      "(23, 475)\n",
      "(89,)\n",
      "(23,)\n"
     ]
    }
   ],
   "source": [
    "\n",
    "print(X_train.shape)\n",
    "print(X_test.shape)\n",
    "print(y_train.shape)\n",
    "print(y_test.shape)"
   ]
  },
  {
   "cell_type": "markdown",
   "metadata": {},
   "source": [
    "Mostrar todos los tipos de datos de X "
   ]
  },
  {
   "cell_type": "code",
   "execution_count": 99,
   "metadata": {},
   "outputs": [
    {
     "data": {
      "text/plain": [
       "EstadoCivil                    int64\n",
       "Organizacion                   int64\n",
       "FlexibilidadHoraria            int64\n",
       "ImportanciaClima               int64\n",
       "FlexibilidadHoraria.1        float64\n",
       "                              ...   \n",
       "Disponibilidad_[9, 10, 5]       bool\n",
       "Disponibilidad_[9, 4, 8]        bool\n",
       "Disponibilidad_[9, 4]           bool\n",
       "Disponibilidad_[9, 5, 4]        bool\n",
       "Disponibilidad_[9]              bool\n",
       "Length: 475, dtype: object"
      ]
     },
     "execution_count": 99,
     "metadata": {},
     "output_type": "execute_result"
    }
   ],
   "source": [
    "X.dtypes"
   ]
  },
  {
   "cell_type": "markdown",
   "metadata": {},
   "source": [
    "Supongamos que 'y_train' es una columna de tu DataFrame"
   ]
  },
  {
   "cell_type": "code",
   "execution_count": 100,
   "metadata": {},
   "outputs": [],
   "source": [
    "y_train = df['EstadoCivil'].values.astype(np.int16)  # Cambiar a float32"
   ]
  },
  {
   "cell_type": "markdown",
   "metadata": {},
   "source": [
    "\n",
    "\n",
    "### Modelo con Salida Gaussiana (TensorFlow):\n",
    "\n",
    "1. **Capa de Entrada:**\n",
    "   - `input_layer = Input(shape=(469,))`: Define una capa de entrada con 469 nodos, correspondientes a las características de entrada.\n",
    "\n",
    "2. **Capa de Salida:**\n",
    "   - `output_layer = Dense(2)(input_layer)`: Define una capa de salida con 2 nodos, uno para la media y otro para la desviación estándar en una distribución Gaussiana.\n",
    "\n",
    "3. **Creación y Compilación del Modelo:**\n",
    "   - `model = Model(inputs=input_layer, outputs=output_layer)`: Crea el modelo con la capa de entrada y salida.\n",
    "   - `model.compile(optimizer='adam', loss='mean_squared_error')`: Compila el modelo con el optimizador Adam y la función de pérdida de error cuadrático medio.\n",
    "\n",
    "4. **Entrenamiento del Modelo:**\n",
    "   - `model.fit(X_train, y_train, epochs=50, batch_size=10)`: Entrena el modelo con los datos de entrenamiento (`X_train`, `y_train`) durante 50 épocas.\n",
    "\n",
    "5. **Evaluación del Modelo:**\n",
    "   - `loss = model.evaluate(X_test, y_test)`: Evalúa el modelo en el conjunto de prueba y muestra la pérdida.\n",
    "\n",
    "### Modelo con Red Neuronal Artificial (scikit-learn):\n",
    "\n",
    "1. **Normalización de Datos:**\n",
    "   - `scaler = StandardScaler()`: Inicializa un escalador estándar.\n",
    "   - `scaler.fit(X_train)`: Ajusta el escalador a los datos de entrenamiento.\n",
    "   - `X_train = scaler.transform(X_train)`: Normaliza los datos de entrenamiento.\n",
    "   - `X_test = scaler.transform(X_test)`: Normaliza los datos de prueba.\n",
    "\n",
    "2. **Red Neuronal Artificial (MLP):**\n",
    "   - `mlp = MLPClassifier(hidden_layer_sizes=(26, 26, 26), max_iter=500)`: Crea una red neuronal artificial con tres capas ocultas de 26 nodos cada una y un máximo de 500 iteraciones.\n",
    "   - `mlp.fit(X_train, y_train.values.ravel())`: Entrena la red neuronal con los datos de entrenamiento.\n",
    "\n",
    "3. **Predicciones y Evaluación:**\n",
    "   - `predictions = mlp.predict(X_test)`: Realiza predicciones en el conjunto de prueba.\n",
    "   - `confusion_matrix(y_test, predictions)`: Muestra la matriz de confusión.\n",
    "   - `classification_report(y_test, predictions)`: Muestra el informe de clasificación.\n",
    "\n",
    "### Comentarios:\n",
    "- El modelo con salida Gaussiana podría ser apropiado para problemas de regresión con incertidumbre en las predicciones.\n",
    "- El modelo MLP es más común para problemas de clasificación y muestra su evaluación en términos de matriz de confusión y reporte de clasificación.\n"
   ]
  },
  {
   "cell_type": "code",
   "execution_count": 103,
   "metadata": {},
   "outputs": [
    {
     "name": "stdout",
     "output_type": "stream",
     "text": [
      "89\n",
      "110\n"
     ]
    }
   ],
   "source": [
    "import numpy as np\n",
    "import tensorflow as tf\n",
    "from tensorflow.keras.layers import Input, Dense\n",
    "from tensorflow.keras.models import Model\n",
    "\n",
    "# Define la capa de entrada\n",
    "input_layer = Input(shape=(469,))\n",
    "\n",
    "# Define la capa de salida con una distribución Gaussiana\n",
    "output_layer = Dense(2)(input_layer)  # Dos salidas para media y desviación estándar\n",
    "\n",
    "# Crea el modelo\n",
    "model = Model(inputs=input_layer, outputs=output_layer)\n",
    " \n",
    "# Compila el modelo\n",
    "model.compile(optimizer='adam', loss='mean_squared_error')\n",
    "\n",
    "#Longitud de la entrada\n",
    "print(len(X_train))\n",
    "print(len(y_train))\n"
   ]
  },
  {
   "cell_type": "code",
   "execution_count": null,
   "metadata": {},
   "outputs": [],
   "source": [
    "# Entrena el modelo\n",
    "model.fit(X_train, y_train, epochs=50, batch_size=10)\n",
    "\n",
    "# Evalúa el modelo en el conjunto de prueba\n",
    "loss = model.evaluate(X_test, y_test)\n",
    "print(f\"Pérdida en el conjunto de prueba: {loss}\")"
   ]
  },
  {
   "cell_type": "code",
   "execution_count": null,
   "metadata": {},
   "outputs": [
    {
     "name": "stdout",
     "output_type": "stream",
     "text": [
      "[[ 2  0  9]\n",
      " [ 0  0  0]\n",
      " [ 1  1 15]]\n",
      "              precision    recall  f1-score   support\n",
      "\n",
      "         [1]       0.67      0.18      0.29        11\n",
      "         [3]       0.00      0.00      0.00         0\n",
      "         [5]       0.62      0.88      0.73        17\n",
      "\n",
      "    accuracy                           0.61        28\n",
      "   macro avg       0.43      0.35      0.34        28\n",
      "weighted avg       0.64      0.61      0.56        28\n",
      "\n"
     ]
    },
    {
     "name": "stderr",
     "output_type": "stream",
     "text": [
      "/opt/homebrew/lib/python3.10/site-packages/sklearn/metrics/_classification.py:1344: UndefinedMetricWarning: Recall and F-score are ill-defined and being set to 0.0 in labels with no true samples. Use `zero_division` parameter to control this behavior.\n",
      "  _warn_prf(average, modifier, msg_start, len(result))\n",
      "/opt/homebrew/lib/python3.10/site-packages/sklearn/metrics/_classification.py:1344: UndefinedMetricWarning: Recall and F-score are ill-defined and being set to 0.0 in labels with no true samples. Use `zero_division` parameter to control this behavior.\n",
      "  _warn_prf(average, modifier, msg_start, len(result))\n",
      "/opt/homebrew/lib/python3.10/site-packages/sklearn/metrics/_classification.py:1344: UndefinedMetricWarning: Recall and F-score are ill-defined and being set to 0.0 in labels with no true samples. Use `zero_division` parameter to control this behavior.\n",
      "  _warn_prf(average, modifier, msg_start, len(result))\n"
     ]
    }
   ],
   "source": [
    "#crear una red neuronal radial con los datos de entrenamiento y prueba con keras \n",
    "from sklearn.preprocessing import StandardScaler\n",
    "from sklearn.neural_network import MLPClassifier\n",
    "from sklearn.metrics import classification_report, confusion_matrix\n",
    "\n",
    "scaler = StandardScaler()\n",
    "scaler.fit(X_train)\n",
    "\n",
    "X_train = scaler.transform(X_train)\n",
    "X_test = scaler.transform(X_test)\n",
    "\n",
    "mlp = MLPClassifier(hidden_layer_sizes=(26,26,26),max_iter=500)\n",
    "mlp.fit(X_train,y_train.values.ravel())\n",
    "\n",
    "predictions = mlp.predict(X_test)\n",
    "\n",
    "print(confusion_matrix(y_test,predictions))\n",
    "print(classification_report(y_test,predictions))\n",
    "\n",
    "\n"
   ]
  },
  {
   "cell_type": "code",
   "execution_count": null,
   "metadata": {},
   "outputs": [
    {
     "data": {
      "image/png": "[encoded data removed]",
      "text/plain": [
       "<Figure size 640x480 with 1 Axes>"
      ]
     },
     "metadata": {},
     "output_type": "display_data"
    }
   ],
   "source": [
    "# graficar la matriz de confusión con seaborn\n",
    "cm = confusion_matrix(y_test, predictions)\n",
    "sns.heatmap(cm, square=True, annot=True, cmap='RdBu', cbar=False,\n",
    "xticklabels=['Mujer', 'Hombre'], yticklabels=['Mujer', 'Hombre'])\n",
    "plt.xlabel('Valor predicho')\n",
    "plt.ylabel('Valor real')\n",
    "plt.show()"
   ]
  }
 ],
 "metadata": {
  "kernelspec": {
   "display_name": "Python 3",
   "language": "python",
   "name": "python3"
  },
  "language_info": {
   "codemirror_mode": {
    "name": "ipython",
    "version": 3
   },
   "file_extension": ".py",
   "mimetype": "text/x-python",
   "name": "python",
   "nbconvert_exporter": "python",
   "pygments_lexer": "ipython3",
   "version": "3.11.1"
  }
 },
 "nbformat": 4,
 "nbformat_minor": 2
}
