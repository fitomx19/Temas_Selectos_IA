{
 "cells": [
  {
   "cell_type": "markdown",
   "metadata": {},
   "source": [
    "### Red neuronal de base radial"
   ]
  },
  {
   "cell_type": "markdown",
   "metadata": {},
   "source": [
    "Las redes neuronales de base radial (RBF, por sus siglas en inglés, Radial Basis Function) son un tipo de red neuronal artificial que se utiliza en aprendizaje supervisado y no supervisado. Estas redes se llaman \"radiales\" porque utilizan funciones de base radial como funciones de activación en sus neuronas.\n",
    "\n",
    "Una descripción básica de cómo funcionan las RBF:\n",
    "\n",
    "1. Capa de entrada: En esta capa, se introducen los datos de entrada. Cada neurona en esta capa está asociada a una característica específica del conjunto de datos.\n",
    "\n",
    "2. Capa oculta: Esta es la capa más distintiva de las RBF. Cada neurona en esta capa utiliza una función de base radial como su función de activación. La función de base radial generalmente toma la forma de una campana gaussiana y depende de la distancia entre la entrada y un centro específico asociado a la neurona. Las neuronas en esta capa se utilizan para realizar transformaciones no lineales de los datos de entrada.\n",
    "\n",
    "3. Capa de salida: En esta capa, se realizan las operaciones de salida, que pueden variar según la tarea que esté realizando la red neuronal. Puede ser una regresión, clasificación u otra tarea, dependiendo de la configuración de la red.\n",
    "\n",
    "Las redes neuronales de base radial son conocidas por su capacidad para aproximar funciones complejas y resolver problemas de regresión no lineal. Son especialmente útiles en aplicaciones donde la relación entre las características de entrada y la salida es difícil de modelar utilizando métodos lineales.\n",
    "\n",
    "En el contexto de la ciencia de datos y el aprendizaje automático, las RBF son una técnica útil para abordar problemas que requieren una representación no lineal de los datos, aunque es importante destacar que existen otras arquitecturas de redes neuronales, como las redes neuronales convolucionales (CNN) y las redes neuronales recurrentes (RNN), que se utilizan en diferentes escenarios."
   ]
  },
  {
   "cell_type": "code",
   "execution_count": 83,
   "metadata": {},
   "outputs": [],
   "source": [
    "#importar exploracionPerfiles.csv \n",
    "import pandas as pd\n",
    "import numpy as np\n",
    "import matplotlib.pyplot as plt\n",
    "import seaborn as sns\n",
    "import os\n",
    "\n",
    "# Path: RedNeuronalRadial.ipynb\n",
    "# Cargar datos\n",
    "df = pd.read_csv('exploracionPerfiles.csv', sep=',', decimal='.', encoding='utf-8')"
   ]
  },
  {
   "cell_type": "code",
   "execution_count": 84,
   "metadata": {},
   "outputs": [
    {
     "data": {
      "text/html": [
       "<div>\n",
       "<style scoped>\n",
       "    .dataframe tbody tr th:only-of-type {\n",
       "        vertical-align: middle;\n",
       "    }\n",
       "\n",
       "    .dataframe tbody tr th {\n",
       "        vertical-align: top;\n",
       "    }\n",
       "\n",
       "    .dataframe thead th {\n",
       "        text-align: right;\n",
       "    }\n",
       "</style>\n",
       "<table border=\"1\" class=\"dataframe\">\n",
       "  <thead>\n",
       "    <tr style=\"text-align: right;\">\n",
       "      <th></th>\n",
       "      <th>CorreoElectronico</th>\n",
       "      <th>Edad</th>\n",
       "      <th>Genero</th>\n",
       "      <th>Ubicacion</th>\n",
       "      <th>EstadoCivil</th>\n",
       "      <th>ActividadesCitas</th>\n",
       "      <th>Hobbies</th>\n",
       "      <th>FrecuenciaCitas</th>\n",
       "      <th>Organizacion</th>\n",
       "      <th>FlexibilidadHoraria</th>\n",
       "      <th>...</th>\n",
       "      <th>ActividadesClima</th>\n",
       "      <th>Cocina</th>\n",
       "      <th>RestriccionesAlimentarias</th>\n",
       "      <th>Deportes</th>\n",
       "      <th>InteresesCulturales</th>\n",
       "      <th>EntornoCitas</th>\n",
       "      <th>FormalidadCitas</th>\n",
       "      <th>Vestimenta</th>\n",
       "      <th>Disponibilidad</th>\n",
       "      <th>FlexibilidadHoraria.1</th>\n",
       "    </tr>\n",
       "  </thead>\n",
       "  <tbody>\n",
       "    <tr>\n",
       "      <th>0</th>\n",
       "      <td>mahuitzic65@gmail.com</td>\n",
       "      <td>20</td>\n",
       "      <td>[5]</td>\n",
       "      <td>[6]</td>\n",
       "      <td>1</td>\n",
       "      <td>[14, 16, 28, 10, 7]</td>\n",
       "      <td>[11, 21, 10, 30, 29]</td>\n",
       "      <td>[2]</td>\n",
       "      <td>3</td>\n",
       "      <td>3</td>\n",
       "      <td>...</td>\n",
       "      <td>[1]</td>\n",
       "      <td>[5, 10]</td>\n",
       "      <td>[2]</td>\n",
       "      <td>[5, 17]</td>\n",
       "      <td>[29, 32, 25, 46, 34, 2, 45, 14, 24, 5, 2, 31, ...</td>\n",
       "      <td>[2]</td>\n",
       "      <td>[3]</td>\n",
       "      <td>[2]</td>\n",
       "      <td>[5]</td>\n",
       "      <td>3.0</td>\n",
       "    </tr>\n",
       "    <tr>\n",
       "      <th>1</th>\n",
       "      <td>aguilarvaleria004@gmail.com</td>\n",
       "      <td>22</td>\n",
       "      <td>[5]</td>\n",
       "      <td>[8]</td>\n",
       "      <td>1</td>\n",
       "      <td>[13, 5, 12, 28, 17]</td>\n",
       "      <td>[5, 22, 13, 16, 8]</td>\n",
       "      <td>[2]</td>\n",
       "      <td>4</td>\n",
       "      <td>3</td>\n",
       "      <td>...</td>\n",
       "      <td>[1]</td>\n",
       "      <td>[5, 4, 1]</td>\n",
       "      <td>[1]</td>\n",
       "      <td>[5, 7, 20, 11]</td>\n",
       "      <td>[57, 9, 23, 52, 2, 29, 32, 25, 46, 34, 2, 27, 38]</td>\n",
       "      <td>[2]</td>\n",
       "      <td>[2]</td>\n",
       "      <td>[3]</td>\n",
       "      <td>[10, 4, 8]</td>\n",
       "      <td>3.0</td>\n",
       "    </tr>\n",
       "    <tr>\n",
       "      <th>2</th>\n",
       "      <td>aguilarbjimena@gmail.com</td>\n",
       "      <td>21</td>\n",
       "      <td>[5]</td>\n",
       "      <td>[8]</td>\n",
       "      <td>1</td>\n",
       "      <td>[13, 30, 27, 26, 24]</td>\n",
       "      <td>[21, 23, 1, 22, 4]</td>\n",
       "      <td>[2]</td>\n",
       "      <td>5</td>\n",
       "      <td>4</td>\n",
       "      <td>...</td>\n",
       "      <td>[1]</td>\n",
       "      <td>[5, 7, 10]</td>\n",
       "      <td>[4]</td>\n",
       "      <td>[5, 20]</td>\n",
       "      <td>[57, 9, 23, 52, 2, 53, 28, 47, 13, 2, 51, 12, ...</td>\n",
       "      <td>[1]</td>\n",
       "      <td>[2]</td>\n",
       "      <td>[1]</td>\n",
       "      <td>[7]</td>\n",
       "      <td>4.0</td>\n",
       "    </tr>\n",
       "    <tr>\n",
       "      <th>3</th>\n",
       "      <td>dcr26mer@gmail.com</td>\n",
       "      <td>20</td>\n",
       "      <td>[5]</td>\n",
       "      <td>[20]</td>\n",
       "      <td>1</td>\n",
       "      <td>[13, 12, 14, 26]</td>\n",
       "      <td>[11, 17, 21, 20, 6]</td>\n",
       "      <td>[2]</td>\n",
       "      <td>5</td>\n",
       "      <td>3</td>\n",
       "      <td>...</td>\n",
       "      <td>[1]</td>\n",
       "      <td>[5, 7, 4]</td>\n",
       "      <td>[1]</td>\n",
       "      <td>[7]</td>\n",
       "      <td>[57, 9, 23, 52, 2, 53, 28, 47, 13, 2, 31, 26, ...</td>\n",
       "      <td>[2]</td>\n",
       "      <td>[3]</td>\n",
       "      <td>[1]</td>\n",
       "      <td>[9, 4]</td>\n",
       "      <td>3.0</td>\n",
       "    </tr>\n",
       "    <tr>\n",
       "      <th>4</th>\n",
       "      <td>cdenisse618@gmail.com</td>\n",
       "      <td>20</td>\n",
       "      <td>[5]</td>\n",
       "      <td>[10]</td>\n",
       "      <td>2</td>\n",
       "      <td>[18, 15, 20, 28, 24, 3]</td>\n",
       "      <td>[17, 14, 21, 4]</td>\n",
       "      <td>[2]</td>\n",
       "      <td>3</td>\n",
       "      <td>4</td>\n",
       "      <td>...</td>\n",
       "      <td>[1]</td>\n",
       "      <td>[5, 10]</td>\n",
       "      <td>[1]</td>\n",
       "      <td>[5, 17, 20, 11]</td>\n",
       "      <td>[54]</td>\n",
       "      <td>[2]</td>\n",
       "      <td>[2]</td>\n",
       "      <td>[2]</td>\n",
       "      <td>[1]</td>\n",
       "      <td>4.0</td>\n",
       "    </tr>\n",
       "  </tbody>\n",
       "</table>\n",
       "<p>5 rows × 26 columns</p>\n",
       "</div>"
      ],
      "text/plain": [
       "             CorreoElectronico  Edad Genero Ubicacion  EstadoCivil  \\\n",
       "0        mahuitzic65@gmail.com    20    [5]       [6]            1   \n",
       "1  aguilarvaleria004@gmail.com    22    [5]       [8]            1   \n",
       "2     aguilarbjimena@gmail.com    21    [5]       [8]            1   \n",
       "3           dcr26mer@gmail.com    20    [5]      [20]            1   \n",
       "4        cdenisse618@gmail.com    20    [5]      [10]            2   \n",
       "\n",
       "          ActividadesCitas               Hobbies FrecuenciaCitas  \\\n",
       "0      [14, 16, 28, 10, 7]  [11, 21, 10, 30, 29]             [2]   \n",
       "1      [13, 5, 12, 28, 17]    [5, 22, 13, 16, 8]             [2]   \n",
       "2     [13, 30, 27, 26, 24]    [21, 23, 1, 22, 4]             [2]   \n",
       "3         [13, 12, 14, 26]   [11, 17, 21, 20, 6]             [2]   \n",
       "4  [18, 15, 20, 28, 24, 3]       [17, 14, 21, 4]             [2]   \n",
       "\n",
       "   Organizacion  FlexibilidadHoraria  ... ActividadesClima      Cocina  \\\n",
       "0             3                    3  ...              [1]     [5, 10]   \n",
       "1             4                    3  ...              [1]   [5, 4, 1]   \n",
       "2             5                    4  ...              [1]  [5, 7, 10]   \n",
       "3             5                    3  ...              [1]   [5, 7, 4]   \n",
       "4             3                    4  ...              [1]     [5, 10]   \n",
       "\n",
       "  RestriccionesAlimentarias         Deportes  \\\n",
       "0                       [2]          [5, 17]   \n",
       "1                       [1]   [5, 7, 20, 11]   \n",
       "2                       [4]          [5, 20]   \n",
       "3                       [1]              [7]   \n",
       "4                       [1]  [5, 17, 20, 11]   \n",
       "\n",
       "                                 InteresesCulturales  EntornoCitas  \\\n",
       "0  [29, 32, 25, 46, 34, 2, 45, 14, 24, 5, 2, 31, ...           [2]   \n",
       "1  [57, 9, 23, 52, 2, 29, 32, 25, 46, 34, 2, 27, 38]           [2]   \n",
       "2  [57, 9, 23, 52, 2, 53, 28, 47, 13, 2, 51, 12, ...           [1]   \n",
       "3  [57, 9, 23, 52, 2, 53, 28, 47, 13, 2, 31, 26, ...           [2]   \n",
       "4                                               [54]           [2]   \n",
       "\n",
       "  FormalidadCitas Vestimenta Disponibilidad FlexibilidadHoraria.1  \n",
       "0             [3]        [2]            [5]                   3.0  \n",
       "1             [2]        [3]     [10, 4, 8]                   3.0  \n",
       "2             [2]        [1]            [7]                   4.0  \n",
       "3             [3]        [1]         [9, 4]                   3.0  \n",
       "4             [2]        [2]            [1]                   4.0  \n",
       "\n",
       "[5 rows x 26 columns]"
      ]
     },
     "execution_count": 84,
     "metadata": {},
     "output_type": "execute_result"
    }
   ],
   "source": [
    "df.head(5)"
   ]
  },
  {
   "cell_type": "code",
   "execution_count": 85,
   "metadata": {},
   "outputs": [],
   "source": [
    "#eliminar los valores NaN\n",
    "df = df.dropna()"
   ]
  },
  {
   "cell_type": "code",
   "execution_count": 86,
   "metadata": {},
   "outputs": [],
   "source": [
    "#separar datos de entrenamiento y prueba\n",
    "from sklearn.model_selection import train_test_split\n",
    "\n",
    "y = df['Genero']\n",
    "X = df.iloc[:, 4:26]\n"
   ]
  },
  {
   "cell_type": "code",
   "execution_count": 87,
   "metadata": {},
   "outputs": [],
   "source": [
    "# Realiza one-hot encoding de las características categóricas\n",
    "X = pd.get_dummies(X, columns=['ActividadesCitas', 'Hobbies', 'FrecuenciaCitas', 'InicioCitas', 'DistanciaAceptable', 'PresupuestoGeneral', 'PresupuestoEspecial', 'DuracionCitas', 'ActividadesClima', 'Cocina', 'RestriccionesAlimentarias', 'Deportes', 'InteresesCulturales', 'EntornoCitas', 'FormalidadCitas', 'Vestimenta', 'Disponibilidad'])\n"
   ]
  },
  {
   "cell_type": "code",
   "execution_count": 88,
   "metadata": {},
   "outputs": [],
   "source": [
    "X_train, X_test, y_train, y_test = train_test_split(X, y, test_size=0.25, random_state=0)"
   ]
  },
  {
   "cell_type": "code",
   "execution_count": 89,
   "metadata": {},
   "outputs": [
    {
     "data": {
      "text/plain": [
       "EstadoCivil                    int64\n",
       "Organizacion                   int64\n",
       "FlexibilidadHoraria            int64\n",
       "ImportanciaClima               int64\n",
       "FlexibilidadHoraria.1        float64\n",
       "                              ...   \n",
       "Disponibilidad_[9, 10, 5]      uint8\n",
       "Disponibilidad_[9, 4, 8]       uint8\n",
       "Disponibilidad_[9, 4]          uint8\n",
       "Disponibilidad_[9, 5, 4]       uint8\n",
       "Disponibilidad_[9]             uint8\n",
       "Length: 469, dtype: object"
      ]
     },
     "execution_count": 89,
     "metadata": {},
     "output_type": "execute_result"
    }
   ],
   "source": [
    "#mostrar todos los tipos de datos de X \n",
    "X.dtypes"
   ]
  },
  {
   "cell_type": "code",
   "execution_count": 90,
   "metadata": {},
   "outputs": [
    {
     "data": {
      "text/plain": [
       "EstadoCivil                  0\n",
       "Organizacion                 0\n",
       "FlexibilidadHoraria          0\n",
       "ImportanciaClima             0\n",
       "FlexibilidadHoraria.1        0\n",
       "                            ..\n",
       "Disponibilidad_[9, 10, 5]    0\n",
       "Disponibilidad_[9, 4, 8]     0\n",
       "Disponibilidad_[9, 4]        0\n",
       "Disponibilidad_[9, 5, 4]     0\n",
       "Disponibilidad_[9]           0\n",
       "Length: 469, dtype: int64"
      ]
     },
     "execution_count": 90,
     "metadata": {},
     "output_type": "execute_result"
    }
   ],
   "source": [
    "#contar los valores NaN\n",
    "X.isnull().sum()"
   ]
  },
  {
   "cell_type": "code",
   "execution_count": 99,
   "metadata": {},
   "outputs": [
    {
     "name": "stdout",
     "output_type": "stream",
     "text": [
      "Epoch 1/50\n"
     ]
    },
    {
     "name": "stderr",
     "output_type": "stream",
     "text": [
      "2023-10-24 14:58:21.855755: W tensorflow/core/framework/op_kernel.cc:1805] OP_REQUIRES failed at cast_op.cc:121 : UNIMPLEMENTED: Cast string to float is not supported\n"
     ]
    },
    {
     "ename": "UnimplementedError",
     "evalue": "Graph execution error:\n\nDetected at node 'mean_squared_error/Cast' defined at (most recent call last):\n    File \"/opt/homebrew/Cellar/python@3.10/3.10.10_1/Frameworks/Python.framework/Versions/3.10/lib/python3.10/runpy.py\", line 196, in _run_module_as_main\n      return _run_code(code, main_globals, None,\n    File \"/opt/homebrew/Cellar/python@3.10/3.10.10_1/Frameworks/Python.framework/Versions/3.10/lib/python3.10/runpy.py\", line 86, in _run_code\n      exec(code, run_globals)\n    File \"/Users/adolfohuerta/Library/Python/3.10/lib/python/site-packages/ipykernel_launcher.py\", line 17, in <module>\n      app.launch_new_instance()\n    File \"/opt/homebrew/lib/python3.10/site-packages/traitlets/config/application.py\", line 1043, in launch_instance\n      app.start()\n    File \"/Users/adolfohuerta/Library/Python/3.10/lib/python/site-packages/ipykernel/kernelapp.py\", line 724, in start\n      self.io_loop.start()\n    File \"/Users/adolfohuerta/Library/Python/3.10/lib/python/site-packages/tornado/platform/asyncio.py\", line 215, in start\n      self.asyncio_loop.run_forever()\n    File \"/opt/homebrew/Cellar/python@3.10/3.10.10_1/Frameworks/Python.framework/Versions/3.10/lib/python3.10/asyncio/base_events.py\", line 603, in run_forever\n      self._run_once()\n    File \"/opt/homebrew/Cellar/python@3.10/3.10.10_1/Frameworks/Python.framework/Versions/3.10/lib/python3.10/asyncio/base_events.py\", line 1909, in _run_once\n      handle._run()\n    File \"/opt/homebrew/Cellar/python@3.10/3.10.10_1/Frameworks/Python.framework/Versions/3.10/lib/python3.10/asyncio/events.py\", line 80, in _run\n      self._context.run(self._callback, *self._args)\n    File \"/Users/adolfohuerta/Library/Python/3.10/lib/python/site-packages/ipykernel/kernelbase.py\", line 512, in dispatch_queue\n      await self.process_one()\n    File \"/Users/adolfohuerta/Library/Python/3.10/lib/python/site-packages/ipykernel/kernelbase.py\", line 501, in process_one\n      await dispatch(*args)\n    File \"/Users/adolfohuerta/Library/Python/3.10/lib/python/site-packages/ipykernel/kernelbase.py\", line 408, in dispatch_shell\n      await result\n    File \"/Users/adolfohuerta/Library/Python/3.10/lib/python/site-packages/ipykernel/kernelbase.py\", line 731, in execute_request\n      reply_content = await reply_content\n    File \"/Users/adolfohuerta/Library/Python/3.10/lib/python/site-packages/ipykernel/ipkernel.py\", line 417, in do_execute\n      res = shell.run_cell(\n    File \"/Users/adolfohuerta/Library/Python/3.10/lib/python/site-packages/ipykernel/zmqshell.py\", line 540, in run_cell\n      return super().run_cell(*args, **kwargs)\n    File \"/opt/homebrew/lib/python3.10/site-packages/IPython/core/interactiveshell.py\", line 3009, in run_cell\n      result = self._run_cell(\n    File \"/opt/homebrew/lib/python3.10/site-packages/IPython/core/interactiveshell.py\", line 3064, in _run_cell\n      result = runner(coro)\n    File \"/opt/homebrew/lib/python3.10/site-packages/IPython/core/async_helpers.py\", line 129, in _pseudo_sync_runner\n      coro.send(None)\n    File \"/opt/homebrew/lib/python3.10/site-packages/IPython/core/interactiveshell.py\", line 3269, in run_cell_async\n      has_raised = await self.run_ast_nodes(code_ast.body, cell_name,\n    File \"/opt/homebrew/lib/python3.10/site-packages/IPython/core/interactiveshell.py\", line 3448, in run_ast_nodes\n      if await self.run_code(code, result, async_=asy):\n    File \"/opt/homebrew/lib/python3.10/site-packages/IPython/core/interactiveshell.py\", line 3508, in run_code\n      exec(code_obj, self.user_global_ns, self.user_ns)\n    File \"/var/folders/zb/0l4s85s95rzbg13c3_fm6k540000gn/T/ipykernel_20779/491043414.py\", line 19, in <module>\n      model.fit(X_train, y_train, epochs=50, batch_size=10)\n    File \"/opt/homebrew/lib/python3.10/site-packages/keras/src/utils/traceback_utils.py\", line 65, in error_handler\n      return fn(*args, **kwargs)\n    File \"/opt/homebrew/lib/python3.10/site-packages/keras/src/engine/training.py\", line 1742, in fit\n      tmp_logs = self.train_function(iterator)\n    File \"/opt/homebrew/lib/python3.10/site-packages/keras/src/engine/training.py\", line 1338, in train_function\n      return step_function(self, iterator)\n    File \"/opt/homebrew/lib/python3.10/site-packages/keras/src/engine/training.py\", line 1322, in step_function\n      outputs = model.distribute_strategy.run(run_step, args=(data,))\n    File \"/opt/homebrew/lib/python3.10/site-packages/keras/src/engine/training.py\", line 1303, in run_step\n      outputs = model.train_step(data)\n    File \"/opt/homebrew/lib/python3.10/site-packages/keras/src/engine/training.py\", line 1081, in train_step\n      loss = self.compute_loss(x, y, y_pred, sample_weight)\n    File \"/opt/homebrew/lib/python3.10/site-packages/keras/src/engine/training.py\", line 1139, in compute_loss\n      return self.compiled_loss(\n    File \"/opt/homebrew/lib/python3.10/site-packages/keras/src/engine/compile_utils.py\", line 265, in __call__\n      loss_value = loss_obj(y_t, y_p, sample_weight=sw)\n    File \"/opt/homebrew/lib/python3.10/site-packages/keras/src/losses.py\", line 142, in __call__\n      losses = call_fn(y_true, y_pred)\n    File \"/opt/homebrew/lib/python3.10/site-packages/keras/src/losses.py\", line 268, in call\n      return ag_fn(y_true, y_pred, **self._fn_kwargs)\n    File \"/opt/homebrew/lib/python3.10/site-packages/keras/src/losses.py\", line 1607, in mean_squared_error\n      y_true = tf.cast(y_true, y_pred.dtype)\nNode: 'mean_squared_error/Cast'\nCast string to float is not supported\n\t [[{{node mean_squared_error/Cast}}]] [Op:__inference_train_function_1023]",
     "output_type": "error",
     "traceback": [
      "\u001b[0;31m---------------------------------------------------------------------------\u001b[0m",
      "\u001b[0;31mUnimplementedError\u001b[0m                        Traceback (most recent call last)",
      "\u001b[1;32m/Users/adolfohuerta/Desktop/Temas_Selectos_IA/Practica_4/RedNeuronalRadial.ipynb Celda 11\u001b[0m line \u001b[0;36m1\n\u001b[1;32m     <a href='vscode-notebook-cell:/Users/adolfohuerta/Desktop/Temas_Selectos_IA/Practica_4/RedNeuronalRadial.ipynb#X40sZmlsZQ%3D%3D?line=15'>16</a>\u001b[0m model\u001b[39m.\u001b[39mcompile(optimizer\u001b[39m=\u001b[39m\u001b[39m'\u001b[39m\u001b[39madam\u001b[39m\u001b[39m'\u001b[39m, loss\u001b[39m=\u001b[39m\u001b[39m'\u001b[39m\u001b[39mmean_squared_error\u001b[39m\u001b[39m'\u001b[39m)\n\u001b[1;32m     <a href='vscode-notebook-cell:/Users/adolfohuerta/Desktop/Temas_Selectos_IA/Practica_4/RedNeuronalRadial.ipynb#X40sZmlsZQ%3D%3D?line=17'>18</a>\u001b[0m \u001b[39m# Entrena el modelo\u001b[39;00m\n\u001b[0;32m---> <a href='vscode-notebook-cell:/Users/adolfohuerta/Desktop/Temas_Selectos_IA/Practica_4/RedNeuronalRadial.ipynb#X40sZmlsZQ%3D%3D?line=18'>19</a>\u001b[0m model\u001b[39m.\u001b[39;49mfit(X_train, y_train, epochs\u001b[39m=\u001b[39;49m\u001b[39m50\u001b[39;49m, batch_size\u001b[39m=\u001b[39;49m\u001b[39m10\u001b[39;49m)\n\u001b[1;32m     <a href='vscode-notebook-cell:/Users/adolfohuerta/Desktop/Temas_Selectos_IA/Practica_4/RedNeuronalRadial.ipynb#X40sZmlsZQ%3D%3D?line=20'>21</a>\u001b[0m \u001b[39m# Evalúa el modelo en el conjunto de prueba\u001b[39;00m\n\u001b[1;32m     <a href='vscode-notebook-cell:/Users/adolfohuerta/Desktop/Temas_Selectos_IA/Practica_4/RedNeuronalRadial.ipynb#X40sZmlsZQ%3D%3D?line=21'>22</a>\u001b[0m loss \u001b[39m=\u001b[39m model\u001b[39m.\u001b[39mevaluate(X_test, y_test)\n",
      "File \u001b[0;32m/opt/homebrew/lib/python3.10/site-packages/keras/src/utils/traceback_utils.py:70\u001b[0m, in \u001b[0;36mfilter_traceback.<locals>.error_handler\u001b[0;34m(*args, **kwargs)\u001b[0m\n\u001b[1;32m     67\u001b[0m     filtered_tb \u001b[39m=\u001b[39m _process_traceback_frames(e\u001b[39m.\u001b[39m__traceback__)\n\u001b[1;32m     68\u001b[0m     \u001b[39m# To get the full stack trace, call:\u001b[39;00m\n\u001b[1;32m     69\u001b[0m     \u001b[39m# `tf.debugging.disable_traceback_filtering()`\u001b[39;00m\n\u001b[0;32m---> 70\u001b[0m     \u001b[39mraise\u001b[39;00m e\u001b[39m.\u001b[39mwith_traceback(filtered_tb) \u001b[39mfrom\u001b[39;00m \u001b[39mNone\u001b[39m\n\u001b[1;32m     71\u001b[0m \u001b[39mfinally\u001b[39;00m:\n\u001b[1;32m     72\u001b[0m     \u001b[39mdel\u001b[39;00m filtered_tb\n",
      "File \u001b[0;32m/opt/homebrew/lib/python3.10/site-packages/tensorflow/python/eager/execute.py:53\u001b[0m, in \u001b[0;36mquick_execute\u001b[0;34m(op_name, num_outputs, inputs, attrs, ctx, name)\u001b[0m\n\u001b[1;32m     51\u001b[0m \u001b[39mtry\u001b[39;00m:\n\u001b[1;32m     52\u001b[0m   ctx\u001b[39m.\u001b[39mensure_initialized()\n\u001b[0;32m---> 53\u001b[0m   tensors \u001b[39m=\u001b[39m pywrap_tfe\u001b[39m.\u001b[39mTFE_Py_Execute(ctx\u001b[39m.\u001b[39m_handle, device_name, op_name,\n\u001b[1;32m     54\u001b[0m                                       inputs, attrs, num_outputs)\n\u001b[1;32m     55\u001b[0m \u001b[39mexcept\u001b[39;00m core\u001b[39m.\u001b[39m_NotOkStatusException \u001b[39mas\u001b[39;00m e:\n\u001b[1;32m     56\u001b[0m   \u001b[39mif\u001b[39;00m name \u001b[39mis\u001b[39;00m \u001b[39mnot\u001b[39;00m \u001b[39mNone\u001b[39;00m:\n",
      "\u001b[0;31mUnimplementedError\u001b[0m: Graph execution error:\n\nDetected at node 'mean_squared_error/Cast' defined at (most recent call last):\n    File \"/opt/homebrew/Cellar/python@3.10/3.10.10_1/Frameworks/Python.framework/Versions/3.10/lib/python3.10/runpy.py\", line 196, in _run_module_as_main\n      return _run_code(code, main_globals, None,\n    File \"/opt/homebrew/Cellar/python@3.10/3.10.10_1/Frameworks/Python.framework/Versions/3.10/lib/python3.10/runpy.py\", line 86, in _run_code\n      exec(code, run_globals)\n    File \"/Users/adolfohuerta/Library/Python/3.10/lib/python/site-packages/ipykernel_launcher.py\", line 17, in <module>\n      app.launch_new_instance()\n    File \"/opt/homebrew/lib/python3.10/site-packages/traitlets/config/application.py\", line 1043, in launch_instance\n      app.start()\n    File \"/Users/adolfohuerta/Library/Python/3.10/lib/python/site-packages/ipykernel/kernelapp.py\", line 724, in start\n      self.io_loop.start()\n    File \"/Users/adolfohuerta/Library/Python/3.10/lib/python/site-packages/tornado/platform/asyncio.py\", line 215, in start\n      self.asyncio_loop.run_forever()\n    File \"/opt/homebrew/Cellar/python@3.10/3.10.10_1/Frameworks/Python.framework/Versions/3.10/lib/python3.10/asyncio/base_events.py\", line 603, in run_forever\n      self._run_once()\n    File \"/opt/homebrew/Cellar/python@3.10/3.10.10_1/Frameworks/Python.framework/Versions/3.10/lib/python3.10/asyncio/base_events.py\", line 1909, in _run_once\n      handle._run()\n    File \"/opt/homebrew/Cellar/python@3.10/3.10.10_1/Frameworks/Python.framework/Versions/3.10/lib/python3.10/asyncio/events.py\", line 80, in _run\n      self._context.run(self._callback, *self._args)\n    File \"/Users/adolfohuerta/Library/Python/3.10/lib/python/site-packages/ipykernel/kernelbase.py\", line 512, in dispatch_queue\n      await self.process_one()\n    File \"/Users/adolfohuerta/Library/Python/3.10/lib/python/site-packages/ipykernel/kernelbase.py\", line 501, in process_one\n      await dispatch(*args)\n    File \"/Users/adolfohuerta/Library/Python/3.10/lib/python/site-packages/ipykernel/kernelbase.py\", line 408, in dispatch_shell\n      await result\n    File \"/Users/adolfohuerta/Library/Python/3.10/lib/python/site-packages/ipykernel/kernelbase.py\", line 731, in execute_request\n      reply_content = await reply_content\n    File \"/Users/adolfohuerta/Library/Python/3.10/lib/python/site-packages/ipykernel/ipkernel.py\", line 417, in do_execute\n      res = shell.run_cell(\n    File \"/Users/adolfohuerta/Library/Python/3.10/lib/python/site-packages/ipykernel/zmqshell.py\", line 540, in run_cell\n      return super().run_cell(*args, **kwargs)\n    File \"/opt/homebrew/lib/python3.10/site-packages/IPython/core/interactiveshell.py\", line 3009, in run_cell\n      result = self._run_cell(\n    File \"/opt/homebrew/lib/python3.10/site-packages/IPython/core/interactiveshell.py\", line 3064, in _run_cell\n      result = runner(coro)\n    File \"/opt/homebrew/lib/python3.10/site-packages/IPython/core/async_helpers.py\", line 129, in _pseudo_sync_runner\n      coro.send(None)\n    File \"/opt/homebrew/lib/python3.10/site-packages/IPython/core/interactiveshell.py\", line 3269, in run_cell_async\n      has_raised = await self.run_ast_nodes(code_ast.body, cell_name,\n    File \"/opt/homebrew/lib/python3.10/site-packages/IPython/core/interactiveshell.py\", line 3448, in run_ast_nodes\n      if await self.run_code(code, result, async_=asy):\n    File \"/opt/homebrew/lib/python3.10/site-packages/IPython/core/interactiveshell.py\", line 3508, in run_code\n      exec(code_obj, self.user_global_ns, self.user_ns)\n    File \"/var/folders/zb/0l4s85s95rzbg13c3_fm6k540000gn/T/ipykernel_20779/491043414.py\", line 19, in <module>\n      model.fit(X_train, y_train, epochs=50, batch_size=10)\n    File \"/opt/homebrew/lib/python3.10/site-packages/keras/src/utils/traceback_utils.py\", line 65, in error_handler\n      return fn(*args, **kwargs)\n    File \"/opt/homebrew/lib/python3.10/site-packages/keras/src/engine/training.py\", line 1742, in fit\n      tmp_logs = self.train_function(iterator)\n    File \"/opt/homebrew/lib/python3.10/site-packages/keras/src/engine/training.py\", line 1338, in train_function\n      return step_function(self, iterator)\n    File \"/opt/homebrew/lib/python3.10/site-packages/keras/src/engine/training.py\", line 1322, in step_function\n      outputs = model.distribute_strategy.run(run_step, args=(data,))\n    File \"/opt/homebrew/lib/python3.10/site-packages/keras/src/engine/training.py\", line 1303, in run_step\n      outputs = model.train_step(data)\n    File \"/opt/homebrew/lib/python3.10/site-packages/keras/src/engine/training.py\", line 1081, in train_step\n      loss = self.compute_loss(x, y, y_pred, sample_weight)\n    File \"/opt/homebrew/lib/python3.10/site-packages/keras/src/engine/training.py\", line 1139, in compute_loss\n      return self.compiled_loss(\n    File \"/opt/homebrew/lib/python3.10/site-packages/keras/src/engine/compile_utils.py\", line 265, in __call__\n      loss_value = loss_obj(y_t, y_p, sample_weight=sw)\n    File \"/opt/homebrew/lib/python3.10/site-packages/keras/src/losses.py\", line 142, in __call__\n      losses = call_fn(y_true, y_pred)\n    File \"/opt/homebrew/lib/python3.10/site-packages/keras/src/losses.py\", line 268, in call\n      return ag_fn(y_true, y_pred, **self._fn_kwargs)\n    File \"/opt/homebrew/lib/python3.10/site-packages/keras/src/losses.py\", line 1607, in mean_squared_error\n      y_true = tf.cast(y_true, y_pred.dtype)\nNode: 'mean_squared_error/Cast'\nCast string to float is not supported\n\t [[{{node mean_squared_error/Cast}}]] [Op:__inference_train_function_1023]"
     ]
    }
   ],
   "source": [
    "import numpy as np\n",
    "import tensorflow as tf\n",
    "from tensorflow.keras.layers import Input, Dense\n",
    "from tensorflow.keras.models import Model\n",
    "\n",
    "# Define la capa de entrada\n",
    "input_layer = Input(shape=(469,))\n",
    "\n",
    "# Define la capa de salida con una distribución Gaussiana\n",
    "output_layer = Dense(2)(input_layer)  # Dos salidas para media y desviación estándar\n",
    "\n",
    "# Crea el modelo\n",
    "model = Model(inputs=input_layer, outputs=output_layer)\n",
    "\n",
    "# Compila el modelo\n",
    "model.compile(optimizer='adam', loss='mean_squared_error')\n",
    "\n",
    "# Entrena el modelo\n",
    "model.fit(X_train, y_train, epochs=50, batch_size=10)\n",
    "\n",
    "# Evalúa el modelo en el conjunto de prueba\n",
    "loss = model.evaluate(X_test, y_test)\n",
    "print(f\"Pérdida en el conjunto de prueba: {loss}\")"
   ]
  },
  {
   "cell_type": "code",
   "execution_count": 92,
   "metadata": {},
   "outputs": [
    {
     "name": "stdout",
     "output_type": "stream",
     "text": [
      "[[ 2  0  9]\n",
      " [ 0  0  0]\n",
      " [ 1  1 15]]\n",
      "              precision    recall  f1-score   support\n",
      "\n",
      "         [1]       0.67      0.18      0.29        11\n",
      "         [3]       0.00      0.00      0.00         0\n",
      "         [5]       0.62      0.88      0.73        17\n",
      "\n",
      "    accuracy                           0.61        28\n",
      "   macro avg       0.43      0.35      0.34        28\n",
      "weighted avg       0.64      0.61      0.56        28\n",
      "\n"
     ]
    },
    {
     "name": "stderr",
     "output_type": "stream",
     "text": [
      "/opt/homebrew/lib/python3.10/site-packages/sklearn/metrics/_classification.py:1344: UndefinedMetricWarning: Recall and F-score are ill-defined and being set to 0.0 in labels with no true samples. Use `zero_division` parameter to control this behavior.\n",
      "  _warn_prf(average, modifier, msg_start, len(result))\n",
      "/opt/homebrew/lib/python3.10/site-packages/sklearn/metrics/_classification.py:1344: UndefinedMetricWarning: Recall and F-score are ill-defined and being set to 0.0 in labels with no true samples. Use `zero_division` parameter to control this behavior.\n",
      "  _warn_prf(average, modifier, msg_start, len(result))\n",
      "/opt/homebrew/lib/python3.10/site-packages/sklearn/metrics/_classification.py:1344: UndefinedMetricWarning: Recall and F-score are ill-defined and being set to 0.0 in labels with no true samples. Use `zero_division` parameter to control this behavior.\n",
      "  _warn_prf(average, modifier, msg_start, len(result))\n"
     ]
    }
   ],
   "source": [
    "#crear una red neuronal radial con los datos de entrenamiento y prueba con keras \n",
    "from sklearn.preprocessing import StandardScaler\n",
    "from sklearn.neural_network import MLPClassifier\n",
    "from sklearn.metrics import classification_report, confusion_matrix\n",
    "\n",
    "scaler = StandardScaler()\n",
    "scaler.fit(X_train)\n",
    "\n",
    "X_train = scaler.transform(X_train)\n",
    "X_test = scaler.transform(X_test)\n",
    "\n",
    "mlp = MLPClassifier(hidden_layer_sizes=(26,26,26),max_iter=500)\n",
    "mlp.fit(X_train,y_train.values.ravel())\n",
    "\n",
    "predictions = mlp.predict(X_test)\n",
    "\n",
    "print(confusion_matrix(y_test,predictions))\n",
    "print(classification_report(y_test,predictions))\n",
    "\n",
    "\n"
   ]
  },
  {
   "cell_type": "code",
   "execution_count": 95,
   "metadata": {},
   "outputs": [
    {
     "data": {
      "image/png": "[encoded data removed]",
      "text/plain": [
       "<Figure size 640x480 with 1 Axes>"
      ]
     },
     "metadata": {},
     "output_type": "display_data"
    }
   ],
   "source": [
    "# graficar la matriz de confusión con seaborn\n",
    "cm = confusion_matrix(y_test, predictions)\n",
    "sns.heatmap(cm, square=True, annot=True, cmap='RdBu', cbar=False,\n",
    "xticklabels=['Mujer', 'Hombre'], yticklabels=['Mujer', 'Hombre'])\n",
    "plt.xlabel('Valor predicho')\n",
    "plt.ylabel('Valor real')\n",
    "plt.show()"
   ]
  }
 ],
 "metadata": {
  "kernelspec": {
   "display_name": "Python 3",
   "language": "python",
   "name": "python3"
  },
  "language_info": {
   "codemirror_mode": {
    "name": "ipython",
    "version": 3
   },
   "file_extension": ".py",
   "mimetype": "text/x-python",
   "name": "python",
   "nbconvert_exporter": "python",
   "pygments_lexer": "ipython3",
   "version": "3.10.10"
  }
 },
 "nbformat": 4,
 "nbformat_minor": 2
}
