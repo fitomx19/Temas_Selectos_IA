{
 "cells": [
  {
   "cell_type": "markdown",
   "metadata": {},
   "source": [
    "# Clasificador BackPropagattion\n",
    "\n"
   ]
  },
  {
   "cell_type": "markdown",
   "metadata": {},
   "source": [
    "Importar las librerías necesarias"
   ]
  },
  {
   "cell_type": "code",
   "execution_count": 38,
   "metadata": {},
   "outputs": [],
   "source": [
    "from keras.preprocessing.image import ImageDataGenerator\n",
    "from keras.models import Sequential\n",
    "from keras.layers import Dense, Conv2D, Flatten, MaxPooling2D\n",
    "from keras.optimizers import Adam\n",
    "from keras.metrics import Accuracy\n",
    "from keras.preprocessing import image\n",
    "import numpy as np\n",
    "from tensorflow.keras.preprocessing import image\n",
    "from tensorflow.keras.preprocessing import image\n",
    "import numpy as np\n",
    "\n"
   ]
  },
  {
   "cell_type": "markdown",
   "metadata": {},
   "source": [
    "Preprocesamiento de las imagenes"
   ]
  },
  {
   "cell_type": "code",
   "execution_count": 39,
   "metadata": {},
   "outputs": [
    {
     "name": "stdout",
     "output_type": "stream",
     "text": [
      "Found 2840 images belonging to 5 classes.\n"
     ]
    },
    {
     "name": "stdout",
     "output_type": "stream",
     "text": [
      "Found 387 images belonging to 5 classes.\n"
     ]
    }
   ],
   "source": [
    "train_datagen = ImageDataGenerator(rescale=1./255)\n",
    "test_datagen = ImageDataGenerator(rescale=1./255)\n",
    "\n",
    "train_set = train_datagen.flow_from_directory(\n",
    "    'imagenes',\n",
    "    target_size=(64, 64),\n",
    "    batch_size=32,\n",
    "    class_mode='categorical'\n",
    ")\n",
    "\n",
    "test_set = test_datagen.flow_from_directory(\n",
    "    'imagenes_prueba',\n",
    "    target_size=(64, 64),\n",
    "    batch_size=32,\n",
    "    class_mode='categorical'\n",
    ")\n"
   ]
  },
  {
   "cell_type": "markdown",
   "metadata": {},
   "source": [
    "Construccion del modelo"
   ]
  },
  {
   "cell_type": "code",
   "execution_count": 40,
   "metadata": {},
   "outputs": [],
   "source": [
    "model = Sequential()\n",
    "model.add(Conv2D(32, kernel_size=(3, 3), activation='relu', input_shape=(64, 64, 3)))\n",
    "model.add(MaxPooling2D(pool_size=(2, 2)))\n",
    "model.add(Flatten())\n",
    "model.add(Dense(units=128, activation='relu'))\n",
    "model.add(Dense(units=5, activation='softmax'))  # 5 clases: autobus, avion, bicicletas, botes, sofa\n"
   ]
  },
  {
   "cell_type": "markdown",
   "metadata": {},
   "source": [
    "Compilacion del modelo"
   ]
  },
  {
   "cell_type": "code",
   "execution_count": 41,
   "metadata": {},
   "outputs": [],
   "source": [
    "model.compile(optimizer=Adam(learning_rate=0.0001), loss='categorical_crossentropy', metrics=[Accuracy()])\n"
   ]
  },
  {
   "cell_type": "markdown",
   "metadata": {},
   "source": [
    "Entrenamiento del modelo"
   ]
  },
  {
   "cell_type": "code",
   "execution_count": 42,
   "metadata": {},
   "outputs": [
    {
     "name": "stdout",
     "output_type": "stream",
     "text": [
      "Epoch 1/8\n",
      "89/89 [==============================] - 7s 76ms/step - loss: 1.3192 - accuracy: 0.0000e+00 - val_loss: 1.1622 - val_accuracy: 0.0000e+00\n",
      "Epoch 2/8\n",
      "89/89 [==============================] - 7s 74ms/step - loss: 1.0704 - accuracy: 0.0000e+00 - val_loss: 1.0311 - val_accuracy: 0.0000e+00\n",
      "Epoch 3/8\n",
      "89/89 [==============================] - 7s 74ms/step - loss: 0.9578 - accuracy: 0.0000e+00 - val_loss: 0.9735 - val_accuracy: 0.0000e+00\n",
      "Epoch 4/8\n",
      "89/89 [==============================] - 7s 73ms/step - loss: 0.8877 - accuracy: 0.0000e+00 - val_loss: 0.9869 - val_accuracy: 0.0000e+00\n",
      "Epoch 5/8\n",
      "89/89 [==============================] - 7s 74ms/step - loss: 0.8010 - accuracy: 0.0000e+00 - val_loss: 0.8569 - val_accuracy: 0.0000e+00\n",
      "Epoch 6/8\n",
      "89/89 [==============================] - 7s 74ms/step - loss: 0.7472 - accuracy: 0.0000e+00 - val_loss: 0.8895 - val_accuracy: 0.0000e+00\n",
      "Epoch 7/8\n",
      "89/89 [==============================] - 7s 75ms/step - loss: 0.6878 - accuracy: 0.0000e+00 - val_loss: 0.7773 - val_accuracy: 0.0000e+00\n",
      "Epoch 8/8\n",
      "89/89 [==============================] - 7s 76ms/step - loss: 0.6410 - accuracy: 0.0000e+00 - val_loss: 0.7078 - val_accuracy: 0.0000e+00\n"
     ]
    }
   ],
   "source": [
    "history = model.fit(\n",
    "    train_set,\n",
    "    steps_per_epoch=len(train_set),\n",
    "    epochs=8,\n",
    "    validation_data=test_set,\n",
    "    validation_steps=len(test_set)\n",
    ")\n"
   ]
  },
  {
   "cell_type": "code",
   "execution_count": 43,
   "metadata": {},
   "outputs": [
    {
     "name": "stdout",
     "output_type": "stream",
     "text": [
      "13/13 [==============================] - 1s 50ms/step - loss: 0.7078 - accuracy: 0.0000e+00\n",
      "Test loss: 0.7077938914299011, Test accuracy: 0.0\n",
      "{'loss': [1.3192282915115356, 1.0703822374343872, 0.9577572345733643, 0.8877211809158325, 0.8009858727455139, 0.7471962571144104, 0.6877686381340027, 0.6409595608711243], 'accuracy': [0.0, 0.0, 0.0, 0.0, 0.0, 0.0, 0.0, 0.0], 'val_loss': [1.1622215509414673, 1.0310992002487183, 0.9734637141227722, 0.9869213104248047, 0.8569303750991821, 0.8894884586334229, 0.7773459553718567, 0.7077938914299011], 'val_accuracy': [0.0, 0.0, 0.0, 0.0, 0.0, 0.0, 0.0, 0.0]}\n"
     ]
    }
   ],
   "source": [
    "# Evaluar el modelo en el conjunto de prueba\n",
    "eval_result = model.evaluate(test_set)\n",
    "print(f\"Test loss: {eval_result[0]}, Test accuracy: {eval_result[1]}\")\n",
    "\n",
    "# Si deseas ver el historial de entrenamiento para observar cómo evolucionan las métricas\n",
    "print(history.history)\n"
   ]
  },
  {
   "cell_type": "code",
   "execution_count": 44,
   "metadata": {},
   "outputs": [],
   "source": [
    "img_path = \"imagenes_prueba/autobus/2008_004968.jpg\""
   ]
  },
  {
   "cell_type": "code",
   "execution_count": 45,
   "metadata": {},
   "outputs": [
    {
     "name": "stdout",
     "output_type": "stream",
     "text": [
      "1/1 [==============================] - 0s 44ms/step\n",
      "El modelo predice que la imagen es un(a) autobus\n"
     ]
    }
   ],
   "source": [
    "img = image.load_img(img_path, target_size=(64, 64))\n",
    "\n",
    "# Convertir la imagen a un array y expandir las dimensiones para que se ajuste al modelo\n",
    "img_array = image.img_to_array(img)\n",
    "img_batch = np.expand_dims(img_array, axis=0)\n",
    "\n",
    " \n",
    "img_batch /= 255.\n",
    "\n",
    "# Hacer la predicción\n",
    "prediction = model.predict(img_batch)\n",
    "prediction_label = np.argmax(prediction)\n",
    "\n",
    "# Traducir la etiqueta numérica a una palabra clave de acuerdo a tu conjunto de datos\n",
    "labels = train_set.class_indices\n",
    "labels = dict((v, k) for k, v in labels.items())\n",
    "predicted_label = labels[prediction_label]\n",
    "\n",
    "print(f\"El modelo predice que la imagen es un(a) {predicted_label}\")\n"
   ]
  },
  {
   "cell_type": "markdown",
   "metadata": {},
   "source": [
    "Metricas"
   ]
  },
  {
   "cell_type": "code",
   "execution_count": 46,
   "metadata": {},
   "outputs": [],
   "source": [
    "img = image.load_img(img_path, target_size=(64, 64))\n",
    "\n",
    "# Convertir la imagen a un array y expandir las dimensiones para que se ajuste al modelo\n",
    "img_array = image.img_to_array(img)\n",
    "img_array = np.expand_dims(img_array, axis=0)"
   ]
  },
  {
   "cell_type": "code",
   "execution_count": 47,
   "metadata": {},
   "outputs": [
    {
     "name": "stdout",
     "output_type": "stream",
     "text": [
      "1/1 [==============================] - 0s 17ms/step\n"
     ]
    }
   ],
   "source": [
    "predictions = model.predict(img_array)"
   ]
  },
  {
   "cell_type": "code",
   "execution_count": 48,
   "metadata": {},
   "outputs": [],
   "source": [
    "predicted_index = np.argmax(predictions[0])\n",
    "predicted_label = labels[predicted_index]  # Suponiendo que 'labels' es una lista de las etiquetas de tus clases\n",
    "predicted_probability = predictions[0][predicted_index]"
   ]
  },
  {
   "cell_type": "code",
   "execution_count": 49,
   "metadata": {},
   "outputs": [
    {
     "name": "stdout",
     "output_type": "stream",
     "text": [
      "Etiqueta predicha: autobus, Probabilidad: 100.00%\n"
     ]
    }
   ],
   "source": [
    "print(f\"Etiqueta predicha: {predicted_label}, Probabilidad: {predicted_probability * 100:.2f}%\")\n"
   ]
  }
 ],
 "metadata": {
  "kernelspec": {
   "display_name": "Python 3",
   "language": "python",
   "name": "python3"
  },
  "language_info": {
   "codemirror_mode": {
    "name": "ipython",
    "version": 3
   },
   "file_extension": ".py",
   "mimetype": "text/x-python",
   "name": "python",
   "nbconvert_exporter": "python",
   "pygments_lexer": "ipython3",
   "version": "3.11.1"
  },
  "orig_nbformat": 4
 },
 "nbformat": 4,
 "nbformat_minor": 2
}
