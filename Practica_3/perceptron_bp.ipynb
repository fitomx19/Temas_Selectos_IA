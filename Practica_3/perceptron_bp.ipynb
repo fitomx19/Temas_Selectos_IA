{
 "cells": [
  {
   "cell_type": "code",
   "execution_count": 39,
   "metadata": {},
   "outputs": [],
   "source": [
    "import os\n",
    "import numpy as np\n",
    "from PIL import Image \n",
    "import pandas as pd\n",
    "import matplotlib.pyplot as plt\n",
    "import tensorflow as tf\n",
    "from tensorflow import keras"
   ]
  },
  {
   "cell_type": "markdown",
   "metadata": {},
   "source": [
    "Función para cargar las imágenes y convertirlas en vectores"
   ]
  },
  {
   "cell_type": "code",
   "execution_count": 40,
   "metadata": {},
   "outputs": [],
   "source": [
    "def cargar_imagenes(folder):\n",
    "    imagenes = []\n",
    "    etiquetas = []\n",
    "    clases = os.listdir(folder)\n",
    "    for clase in clases:\n",
    "        if clase == \".DS_Store\":  # Ignorar carpeta que me crea Apple\n",
    "            continue\n",
    "        path = os.path.join(folder, clase)\n",
    "        for archivo in os.listdir(path):\n",
    "            if archivo == \".DS_Store\":  # Ignorar archivo que me crea Apple\n",
    "                continue\n",
    "            img_path = os.path.join(path, archivo)\n",
    "            img = Image.open(img_path).convert('L')  # Convertir a escala de grises\n",
    "            img = img.resize((52, 52))  # Ajustar tamaño \n",
    "            img_array = np.array(img).flatten() / 255.0  # Aplanar y normalizar\n",
    "            imagenes.append(img_array)\n",
    "            etiquetas.append(clase)\n",
    "    return np.array(imagenes), np.array(etiquetas)"
   ]
  },
  {
   "cell_type": "code",
   "execution_count": 42,
   "metadata": {},
   "outputs": [],
   "source": [
    "imagenes, etiquetas = cargar_imagenes(\"imagenes\")"
   ]
  },
  {
   "cell_type": "code",
   "execution_count": 43,
   "metadata": {},
   "outputs": [
    {
     "data": {
      "text/plain": [
       "array([0.02352941, 0.02745098, 0.07843137, ..., 0.42352941, 0.36862745,\n",
       "       0.40784314])"
      ]
     },
     "execution_count": 43,
     "metadata": {},
     "output_type": "execute_result"
    }
   ],
   "source": [
    "imagenes[0]"
   ]
  }
 ],
 "metadata": {
  "kernelspec": {
   "display_name": "Python 3",
   "language": "python",
   "name": "python3"
  },
  "language_info": {
   "codemirror_mode": {
    "name": "ipython",
    "version": 3
   },
   "file_extension": ".py",
   "mimetype": "text/x-python",
   "name": "python",
   "nbconvert_exporter": "python",
   "pygments_lexer": "ipython3",
   "version": "3.10.10"
  },
  "orig_nbformat": 4
 },
 "nbformat": 4,
 "nbformat_minor": 2
}
